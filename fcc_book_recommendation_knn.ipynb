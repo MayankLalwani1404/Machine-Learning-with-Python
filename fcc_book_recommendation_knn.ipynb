{
  "cells": [
    {
      "cell_type": "markdown",
      "metadata": {
        "id": "view-in-github",
        "colab_type": "text"
      },
      "source": [
        "<a href=\"https://colab.research.google.com/github/MayankLalwani1404/Machine-Learning-with-Python/blob/main/fcc_book_recommendation_knn.ipynb\" target=\"_parent\"><img src=\"https://colab.research.google.com/assets/colab-badge.svg\" alt=\"Open In Colab\"/></a>"
      ]
    },
    {
      "cell_type": "code",
      "execution_count": 39,
      "metadata": {
        "id": "Y1onB6kUvo4Z"
      },
      "outputs": [],
      "source": [
        "# import libraries (you may add additional imports but you may not have to)\n",
        "import numpy as np\n",
        "import pandas as pd\n",
        "from scipy.sparse import csr_matrix\n",
        "from sklearn.neighbors import NearestNeighbors\n",
        "import matplotlib.pyplot as plt"
      ]
    },
    {
      "cell_type": "code",
      "execution_count": null,
      "metadata": {
        "id": "iAQGqqO_vo4d"
      },
      "outputs": [],
      "source": [
        "# get data files\n",
        "!wget https://cdn.freecodecamp.org/project-data/books/book-crossings.zip\n",
        "\n",
        "!unzip book-crossings.zip\n",
        "\n",
        "books_filename = 'BX-Books.csv'\n",
        "ratings_filename = 'BX-Book-Ratings.csv'"
      ]
    },
    {
      "cell_type": "code",
      "execution_count": null,
      "metadata": {
        "id": "NClILWOiEd6Q"
      },
      "outputs": [],
      "source": [
        "# import csv data into dataframes\n",
        "df_books = pd.read_csv(\n",
        "    books_filename,\n",
        "    encoding = \"ISO-8859-1\",\n",
        "    sep=\";\",\n",
        "    header=0,\n",
        "    names=['isbn', 'title', 'author'],\n",
        "    usecols=['isbn', 'title', 'author'],\n",
        "    dtype={'isbn': 'str', 'title': 'str', 'author': 'str'})\n",
        "\n",
        "df_ratings = pd.read_csv(\n",
        "    ratings_filename,\n",
        "    encoding = \"ISO-8859-1\",\n",
        "    sep=\";\",\n",
        "    header=0,\n",
        "    names=['user', 'isbn', 'rating'],\n",
        "    usecols=['user', 'isbn', 'rating'],\n",
        "    dtype={'user': 'int32', 'isbn': 'str', 'rating': 'float32'})"
      ]
    },
    {
      "cell_type": "code",
      "execution_count": 49,
      "metadata": {
        "id": "xAcXjkCFCh0A"
      },
      "outputs": [],
      "source": [
        "# build book-user matrix and train KNN model\n",
        "# 0) ensure dtypes and drop duplicate titles (keep first)\n",
        "df_books['isbn'] = df_books['isbn'].astype(str)\n",
        "df_books = df_books.drop_duplicates(subset=['title'], keep='first').copy()\n",
        "# 1) use raw ratings INCLUDING zeros; filter users/books simultaneously\n",
        "r = df_ratings.copy()\n",
        "r['isbn'] = r['isbn'].astype(str)\n",
        "if r['user'].dtype != np.int64 and r['user'].dtype != np.int32:\n",
        "    r['user'] = pd.to_numeric(r['user'], errors='coerce').astype('Int64')\n",
        "r = r.dropna(subset=['user','isbn','rating'])\n",
        "user_counts = r['user'].value_counts()\n",
        "isbn_counts = r['isbn'].value_counts()\n",
        "eligible_users = set(user_counts[user_counts >= 200].index)\n",
        "eligible_isbns = set(isbn_counts[isbn_counts >= 100].index)\n",
        "r = r[r['user'].isin(eligible_users) & r['isbn'].isin(eligible_isbns)]\n",
        "# 2) merge to books and keep unique title definitions\n",
        "df = pd.merge(r, df_books[['isbn','title','author']], on='isbn', how='inner')\n",
        "# 3) create ratings pivot (rows: title, cols: user), keep zeros as ratings\n",
        "book_user_mat = df.pivot_table(index='title', columns='user', values='rating', aggfunc='mean').fillna(0)\n",
        "# guard against empty matrix\n",
        "if book_user_mat.shape[0] == 0 or book_user_mat.shape[1] == 0:\n",
        "    raise ValueError('No data left after filtering. Verify the CSV parsing and thresholds.')\n",
        "# convert to sparse matrix\n",
        "book_user_sparse = csr_matrix(book_user_mat.values)\n",
        "# fit NearestNeighbors model (cosine distance)\n",
        "model = NearestNeighbors(metric='cosine', algorithm='brute')\n",
        "model.fit(book_user_sparse)\n",
        "# mapping for lookup\n",
        "titles = book_user_mat.index\n",
        "title_to_index = {t: i for i, t in enumerate(titles)}"
      ]
    },
    {
      "cell_type": "code",
      "execution_count": 50,
      "metadata": {
        "id": "f5ZUd-L1SQz7"
      },
      "outputs": [],
      "source": [
        "# function to return recommended books - this will be tested\n",
        "def get_recommends(book = \"\"):\n",
        "    # handle unknown book\n",
        "    if book not in title_to_index:\n",
        "        return [book, []]\n",
        "    idx = title_to_index[book]\n",
        "    distances, indices = model.kneighbors(book_user_mat.iloc[idx, :].values.reshape(1, -1), n_neighbors=6)\n",
        "    recs = []\n",
        "    for i in range(1, len(indices[0])):\n",
        "        rec_title = titles[indices[0][i]]\n",
        "        # return raw cosine distance to match the challenge's expected numbers\n",
        "        rec_dist = float(distances[0][i])\n",
        "        recs.append([rec_title, rec_dist])\n",
        "    # reverse order to match the challenge's expected output\n",
        "    recs.reverse()\n",
        "    return [book, recs]"
      ]
    },
    {
      "cell_type": "code",
      "execution_count": 51,
      "metadata": {
        "id": "jd2SLCh8oxMh",
        "outputId": "e19bdefc-c3db-485e-c746-ed07c2a17e0d",
        "colab": {
          "base_uri": "https://localhost:8080/"
        }
      },
      "outputs": [
        {
          "output_type": "stream",
          "name": "stdout",
          "text": [
            "[\"Where the Heart Is (Oprah's Book Club (Paperback))\", [[\"I'll Be Seeing You\", 0.8016210794448853], ['The Weight of Water', 0.7708583474159241], ['The Surgeon', 0.7699410915374756], ['I Know This Much Is True', 0.7677075266838074], ['The Lovely Bones: A Novel', 0.7234864234924316]]]\n",
            "You passed the challenge! 🎉🎉🎉🎉🎉\n"
          ]
        }
      ],
      "source": [
        "books = get_recommends(\"Where the Heart Is (Oprah's Book Club (Paperback))\")\n",
        "print(books)\n",
        "\n",
        "def test_book_recommendation():\n",
        "  test_pass = True\n",
        "  recommends = get_recommends(\"Where the Heart Is (Oprah's Book Club (Paperback))\")\n",
        "  if recommends[0] != \"Where the Heart Is (Oprah's Book Club (Paperback))\":\n",
        "    test_pass = False\n",
        "  recommended_books = [\"I'll Be Seeing You\", 'The Weight of Water', 'The Surgeon', 'I Know This Much Is True']\n",
        "  recommended_books_dist = [0.8, 0.77, 0.77, 0.77]\n",
        "  for i in range(2):\n",
        "    if recommends[1][i][0] not in recommended_books:\n",
        "      test_pass = False\n",
        "    if abs(recommends[1][i][1] - recommended_books_dist[i]) >= 0.05:\n",
        "      test_pass = False\n",
        "  if test_pass:\n",
        "    print(\"You passed the challenge! 🎉🎉🎉🎉🎉\")\n",
        "  else:\n",
        "    print(\"You haven't passed yet. Keep trying!\")\n",
        "\n",
        "test_book_recommendation()"
      ]
    }
  ],
  "metadata": {
    "colab": {
      "name": "fcc_book_recommendation_knn.ipynb",
      "provenance": [],
      "include_colab_link": true
    },
    "kernelspec": {
      "display_name": "Python 3",
      "language": "python",
      "name": "python3"
    },
    "language_info": {
      "codemirror_mode": {
        "name": "ipython",
        "version": 3
      },
      "file_extension": ".py",
      "mimetype": "text/x-python",
      "name": "python",
      "nbconvert_exporter": "python",
      "pygments_lexer": "ipython3",
      "version": "3.6.5"
    }
  },
  "nbformat": 4,
  "nbformat_minor": 0
}